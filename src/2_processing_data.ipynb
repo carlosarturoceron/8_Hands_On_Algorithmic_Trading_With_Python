{
 "cells": [
  {
   "cell_type": "markdown",
   "metadata": {},
   "source": [
    "### Information Coefficient\n",
    "---\n",
    "\n",
    "* Use information Coefficient (IC) to evaluate the predictive value of signals\n",
    "\n",
    "    * Correlation of a signal's predicted returns vs actual outcomes\n",
    "\n",
    "    * Use `SPEARMAN RANK CORRELATION` instead of **Pearson** correlation. Spearman RANK, is a NON parametric correlation, that looks at rankings as opposed to linear correlation of the data\n",
    "\n",
    "* Signals for algorithms can be used separately or in combination\n",
    "\n",
    "    * Correlation among various signals needs to be analyzed\n",
    "\n",
    "    * **Several weak signals may be combined to form a `STRONG` signal** (as in Random Forest)\n",
    "\n"
   ]
  },
  {
   "cell_type": "code",
   "execution_count": 1,
   "metadata": {},
   "outputs": [
    {
     "name": "stderr",
     "output_type": "stream",
     "text": [
      "/var/folders/ly/0xqts46d0xb6mpwwrttmy0tc0000gq/T/ipykernel_17487/1676161824.py:5: MatplotlibDeprecationWarning: The seaborn styles shipped by Matplotlib are deprecated since 3.6, as they no longer correspond to the styles shipped by seaborn. However, they will remain available as 'seaborn-v0_8-<style>'. Alternatively, directly use the seaborn API instead.\n",
      "  plt.style.use('seaborn')\n"
     ]
    }
   ],
   "source": [
    "import pandas as pd\n",
    "import pandas_datareader.data as pdr\n",
    "from datetime import datetime\n",
    "import matplotlib.pyplot as plt\n",
    "plt.style.use('seaborn')\n",
    "import requests\n",
    "import json"
   ]
  },
  {
   "cell_type": "code",
   "execution_count": 3,
   "metadata": {},
   "outputs": [
    {
     "data": {
      "text/html": [
       "<div>\n",
       "<style scoped>\n",
       "    .dataframe tbody tr th:only-of-type {\n",
       "        vertical-align: middle;\n",
       "    }\n",
       "\n",
       "    .dataframe tbody tr th {\n",
       "        vertical-align: top;\n",
       "    }\n",
       "\n",
       "    .dataframe thead th {\n",
       "        text-align: right;\n",
       "    }\n",
       "</style>\n",
       "<table border=\"1\" class=\"dataframe\">\n",
       "  <thead>\n",
       "    <tr style=\"text-align: right;\">\n",
       "      <th></th>\n",
       "      <th>open</th>\n",
       "      <th>high</th>\n",
       "      <th>low</th>\n",
       "      <th>close</th>\n",
       "      <th>volume</th>\n",
       "      <th>SMA_10d</th>\n",
       "      <th>SMA_20d</th>\n",
       "    </tr>\n",
       "  </thead>\n",
       "  <tbody>\n",
       "    <tr>\n",
       "      <th>2023-04-18</th>\n",
       "      <td>291.570</td>\n",
       "      <td>291.755</td>\n",
       "      <td>287.0100</td>\n",
       "      <td>288.37</td>\n",
       "      <td>20161845.0</td>\n",
       "      <td>287.198</td>\n",
       "      <td>283.3990</td>\n",
       "    </tr>\n",
       "    <tr>\n",
       "      <th>2023-04-19</th>\n",
       "      <td>285.990</td>\n",
       "      <td>289.050</td>\n",
       "      <td>284.5400</td>\n",
       "      <td>288.45</td>\n",
       "      <td>17150271.0</td>\n",
       "      <td>287.325</td>\n",
       "      <td>284.1325</td>\n",
       "    </tr>\n",
       "    <tr>\n",
       "      <th>2023-04-20</th>\n",
       "      <td>285.250</td>\n",
       "      <td>289.030</td>\n",
       "      <td>285.0800</td>\n",
       "      <td>286.11</td>\n",
       "      <td>23244363.0</td>\n",
       "      <td>287.502</td>\n",
       "      <td>284.8235</td>\n",
       "    </tr>\n",
       "    <tr>\n",
       "      <th>2023-04-21</th>\n",
       "      <td>285.010</td>\n",
       "      <td>286.270</td>\n",
       "      <td>283.0608</td>\n",
       "      <td>285.76</td>\n",
       "      <td>21676387.0</td>\n",
       "      <td>286.918</td>\n",
       "      <td>285.2285</td>\n",
       "    </tr>\n",
       "    <tr>\n",
       "      <th>2023-04-24</th>\n",
       "      <td>282.090</td>\n",
       "      <td>284.950</td>\n",
       "      <td>278.7200</td>\n",
       "      <td>281.77</td>\n",
       "      <td>26611014.0</td>\n",
       "      <td>286.156</td>\n",
       "      <td>285.2885</td>\n",
       "    </tr>\n",
       "    <tr>\n",
       "      <th>...</th>\n",
       "      <td>...</td>\n",
       "      <td>...</td>\n",
       "      <td>...</td>\n",
       "      <td>...</td>\n",
       "      <td>...</td>\n",
       "      <td>...</td>\n",
       "      <td>...</td>\n",
       "    </tr>\n",
       "    <tr>\n",
       "      <th>2023-08-07</th>\n",
       "      <td>328.370</td>\n",
       "      <td>331.110</td>\n",
       "      <td>327.5200</td>\n",
       "      <td>330.11</td>\n",
       "      <td>17741526.0</td>\n",
       "      <td>334.215</td>\n",
       "      <td>339.7885</td>\n",
       "    </tr>\n",
       "    <tr>\n",
       "      <th>2023-08-08</th>\n",
       "      <td>326.960</td>\n",
       "      <td>328.750</td>\n",
       "      <td>323.0000</td>\n",
       "      <td>326.05</td>\n",
       "      <td>22327574.0</td>\n",
       "      <td>331.722</td>\n",
       "      <td>339.4675</td>\n",
       "    </tr>\n",
       "    <tr>\n",
       "      <th>2023-08-09</th>\n",
       "      <td>326.470</td>\n",
       "      <td>327.110</td>\n",
       "      <td>321.0499</td>\n",
       "      <td>322.23</td>\n",
       "      <td>22373268.0</td>\n",
       "      <td>330.168</td>\n",
       "      <td>338.7190</td>\n",
       "    </tr>\n",
       "    <tr>\n",
       "      <th>2023-08-10</th>\n",
       "      <td>326.015</td>\n",
       "      <td>328.260</td>\n",
       "      <td>321.1800</td>\n",
       "      <td>322.93</td>\n",
       "      <td>20113725.0</td>\n",
       "      <td>329.389</td>\n",
       "      <td>337.7325</td>\n",
       "    </tr>\n",
       "    <tr>\n",
       "      <th>2023-08-11</th>\n",
       "      <td>320.260</td>\n",
       "      <td>322.410</td>\n",
       "      <td>319.2100</td>\n",
       "      <td>321.01</td>\n",
       "      <td>24355491.0</td>\n",
       "      <td>327.653</td>\n",
       "      <td>336.5210</td>\n",
       "    </tr>\n",
       "  </tbody>\n",
       "</table>\n",
       "<p>81 rows × 7 columns</p>\n",
       "</div>"
      ],
      "text/plain": [
       "               open     high       low   close      volume  SMA_10d   SMA_20d\n",
       "2023-04-18  291.570  291.755  287.0100  288.37  20161845.0  287.198  283.3990\n",
       "2023-04-19  285.990  289.050  284.5400  288.45  17150271.0  287.325  284.1325\n",
       "2023-04-20  285.250  289.030  285.0800  286.11  23244363.0  287.502  284.8235\n",
       "2023-04-21  285.010  286.270  283.0608  285.76  21676387.0  286.918  285.2285\n",
       "2023-04-24  282.090  284.950  278.7200  281.77  26611014.0  286.156  285.2885\n",
       "...             ...      ...       ...     ...         ...      ...       ...\n",
       "2023-08-07  328.370  331.110  327.5200  330.11  17741526.0  334.215  339.7885\n",
       "2023-08-08  326.960  328.750  323.0000  326.05  22327574.0  331.722  339.4675\n",
       "2023-08-09  326.470  327.110  321.0499  322.23  22373268.0  330.168  338.7190\n",
       "2023-08-10  326.015  328.260  321.1800  322.93  20113725.0  329.389  337.7325\n",
       "2023-08-11  320.260  322.410  319.2100  321.01  24355491.0  327.653  336.5210\n",
       "\n",
       "[81 rows x 7 columns]"
      ]
     },
     "execution_count": 3,
     "metadata": {},
     "output_type": "execute_result"
    }
   ],
   "source": [
    "stock = pd.read_csv('../test_data/stock.csv', index_col=0)\n",
    "stock"
   ]
  },
  {
   "cell_type": "code",
   "execution_count": 4,
   "metadata": {},
   "outputs": [
    {
     "name": "stdout",
     "output_type": "stream",
     "text": [
      "<class 'pandas.core.frame.DataFrame'>\n",
      "Index: 81 entries, 2023-04-18 to 2023-08-11\n",
      "Data columns (total 7 columns):\n",
      " #   Column   Non-Null Count  Dtype  \n",
      "---  ------   --------------  -----  \n",
      " 0   open     81 non-null     float64\n",
      " 1   high     81 non-null     float64\n",
      " 2   low      81 non-null     float64\n",
      " 3   close    81 non-null     float64\n",
      " 4   volume   81 non-null     float64\n",
      " 5   SMA_10d  81 non-null     float64\n",
      " 6   SMA_20d  81 non-null     float64\n",
      "dtypes: float64(7)\n",
      "memory usage: 5.1+ KB\n"
     ]
    }
   ],
   "source": [
    "stock.info()"
   ]
  },
  {
   "cell_type": "code",
   "execution_count": 5,
   "metadata": {},
   "outputs": [
    {
     "data": {
      "text/plain": [
       "<Axes: >"
      ]
     },
     "execution_count": 5,
     "metadata": {},
     "output_type": "execute_result"
    },
    {
     "data": {
      "image/png": "[encoded data removed]",
      "text/plain": [
       "<Figure size 800x550 with 1 Axes>"
      ]
     },
     "metadata": {},
     "output_type": "display_data"
    }
   ],
   "source": [
    "# fixing index\n",
    "stock.index = pd.to_datetime(stock.index)\n",
    "stock[['close', 'SMA_10d', 'SMA_20d']].plot()"
   ]
  },
  {
   "cell_type": "markdown",
   "metadata": {},
   "source": [
    "**DATA IMPORTED SUCCESSFULLY**"
   ]
  },
  {
   "cell_type": "markdown",
   "metadata": {},
   "source": [
    "### Evaluating Signals"
   ]
  },
  {
   "cell_type": "markdown",
   "metadata": {},
   "source": [
    "Signals Dataframe, SMA crossovers"
   ]
  },
  {
   "cell_type": "code",
   "execution_count": 6,
   "metadata": {},
   "outputs": [
    {
     "data": {
      "text/html": [
       "<div>\n",
       "<style scoped>\n",
       "    .dataframe tbody tr th:only-of-type {\n",
       "        vertical-align: middle;\n",
       "    }\n",
       "\n",
       "    .dataframe tbody tr th {\n",
       "        vertical-align: top;\n",
       "    }\n",
       "\n",
       "    .dataframe thead th {\n",
       "        text-align: right;\n",
       "    }\n",
       "</style>\n",
       "<table border=\"1\" class=\"dataframe\">\n",
       "  <thead>\n",
       "    <tr style=\"text-align: right;\">\n",
       "      <th></th>\n",
       "      <th>crossover</th>\n",
       "    </tr>\n",
       "  </thead>\n",
       "  <tbody>\n",
       "    <tr>\n",
       "      <th>2023-08-07</th>\n",
       "      <td>-5.5735</td>\n",
       "    </tr>\n",
       "    <tr>\n",
       "      <th>2023-08-08</th>\n",
       "      <td>-7.7455</td>\n",
       "    </tr>\n",
       "    <tr>\n",
       "      <th>2023-08-09</th>\n",
       "      <td>-8.5510</td>\n",
       "    </tr>\n",
       "    <tr>\n",
       "      <th>2023-08-10</th>\n",
       "      <td>-8.3435</td>\n",
       "    </tr>\n",
       "    <tr>\n",
       "      <th>2023-08-11</th>\n",
       "      <td>-8.8680</td>\n",
       "    </tr>\n",
       "  </tbody>\n",
       "</table>\n",
       "</div>"
      ],
      "text/plain": [
       "            crossover\n",
       "2023-08-07    -5.5735\n",
       "2023-08-08    -7.7455\n",
       "2023-08-09    -8.5510\n",
       "2023-08-10    -8.3435\n",
       "2023-08-11    -8.8680"
      ]
     },
     "execution_count": 6,
     "metadata": {},
     "output_type": "execute_result"
    }
   ],
   "source": [
    "signal = pd.DataFrame()\n",
    "signal['crossover'] = stock['SMA_10d'] - stock['SMA_20d']\n",
    "signal.tail()"
   ]
  },
  {
   "cell_type": "markdown",
   "metadata": {},
   "source": [
    "Joining the DFs"
   ]
  },
  {
   "cell_type": "code",
   "execution_count": 9,
   "metadata": {},
   "outputs": [
    {
     "data": {
      "text/html": [
       "<div>\n",
       "<style scoped>\n",
       "    .dataframe tbody tr th:only-of-type {\n",
       "        vertical-align: middle;\n",
       "    }\n",
       "\n",
       "    .dataframe tbody tr th {\n",
       "        vertical-align: top;\n",
       "    }\n",
       "\n",
       "    .dataframe thead th {\n",
       "        text-align: right;\n",
       "    }\n",
       "</style>\n",
       "<table border=\"1\" class=\"dataframe\">\n",
       "  <thead>\n",
       "    <tr style=\"text-align: right;\">\n",
       "      <th></th>\n",
       "      <th>open</th>\n",
       "      <th>high</th>\n",
       "      <th>low</th>\n",
       "      <th>close</th>\n",
       "      <th>volume</th>\n",
       "      <th>SMA_10d</th>\n",
       "      <th>SMA_20d</th>\n",
       "      <th>crossover</th>\n",
       "    </tr>\n",
       "  </thead>\n",
       "  <tbody>\n",
       "    <tr>\n",
       "      <th>2023-04-18</th>\n",
       "      <td>291.570</td>\n",
       "      <td>291.755</td>\n",
       "      <td>287.0100</td>\n",
       "      <td>288.37</td>\n",
       "      <td>20161845.0</td>\n",
       "      <td>287.198</td>\n",
       "      <td>283.3990</td>\n",
       "      <td>3.7990</td>\n",
       "    </tr>\n",
       "    <tr>\n",
       "      <th>2023-04-19</th>\n",
       "      <td>285.990</td>\n",
       "      <td>289.050</td>\n",
       "      <td>284.5400</td>\n",
       "      <td>288.45</td>\n",
       "      <td>17150271.0</td>\n",
       "      <td>287.325</td>\n",
       "      <td>284.1325</td>\n",
       "      <td>3.1925</td>\n",
       "    </tr>\n",
       "    <tr>\n",
       "      <th>2023-04-20</th>\n",
       "      <td>285.250</td>\n",
       "      <td>289.030</td>\n",
       "      <td>285.0800</td>\n",
       "      <td>286.11</td>\n",
       "      <td>23244363.0</td>\n",
       "      <td>287.502</td>\n",
       "      <td>284.8235</td>\n",
       "      <td>2.6785</td>\n",
       "    </tr>\n",
       "    <tr>\n",
       "      <th>2023-04-21</th>\n",
       "      <td>285.010</td>\n",
       "      <td>286.270</td>\n",
       "      <td>283.0608</td>\n",
       "      <td>285.76</td>\n",
       "      <td>21676387.0</td>\n",
       "      <td>286.918</td>\n",
       "      <td>285.2285</td>\n",
       "      <td>1.6895</td>\n",
       "    </tr>\n",
       "    <tr>\n",
       "      <th>2023-04-24</th>\n",
       "      <td>282.090</td>\n",
       "      <td>284.950</td>\n",
       "      <td>278.7200</td>\n",
       "      <td>281.77</td>\n",
       "      <td>26611014.0</td>\n",
       "      <td>286.156</td>\n",
       "      <td>285.2885</td>\n",
       "      <td>0.8675</td>\n",
       "    </tr>\n",
       "    <tr>\n",
       "      <th>...</th>\n",
       "      <td>...</td>\n",
       "      <td>...</td>\n",
       "      <td>...</td>\n",
       "      <td>...</td>\n",
       "      <td>...</td>\n",
       "      <td>...</td>\n",
       "      <td>...</td>\n",
       "      <td>...</td>\n",
       "    </tr>\n",
       "    <tr>\n",
       "      <th>2023-08-07</th>\n",
       "      <td>328.370</td>\n",
       "      <td>331.110</td>\n",
       "      <td>327.5200</td>\n",
       "      <td>330.11</td>\n",
       "      <td>17741526.0</td>\n",
       "      <td>334.215</td>\n",
       "      <td>339.7885</td>\n",
       "      <td>-5.5735</td>\n",
       "    </tr>\n",
       "    <tr>\n",
       "      <th>2023-08-08</th>\n",
       "      <td>326.960</td>\n",
       "      <td>328.750</td>\n",
       "      <td>323.0000</td>\n",
       "      <td>326.05</td>\n",
       "      <td>22327574.0</td>\n",
       "      <td>331.722</td>\n",
       "      <td>339.4675</td>\n",
       "      <td>-7.7455</td>\n",
       "    </tr>\n",
       "    <tr>\n",
       "      <th>2023-08-09</th>\n",
       "      <td>326.470</td>\n",
       "      <td>327.110</td>\n",
       "      <td>321.0499</td>\n",
       "      <td>322.23</td>\n",
       "      <td>22373268.0</td>\n",
       "      <td>330.168</td>\n",
       "      <td>338.7190</td>\n",
       "      <td>-8.5510</td>\n",
       "    </tr>\n",
       "    <tr>\n",
       "      <th>2023-08-10</th>\n",
       "      <td>326.015</td>\n",
       "      <td>328.260</td>\n",
       "      <td>321.1800</td>\n",
       "      <td>322.93</td>\n",
       "      <td>20113725.0</td>\n",
       "      <td>329.389</td>\n",
       "      <td>337.7325</td>\n",
       "      <td>-8.3435</td>\n",
       "    </tr>\n",
       "    <tr>\n",
       "      <th>2023-08-11</th>\n",
       "      <td>320.260</td>\n",
       "      <td>322.410</td>\n",
       "      <td>319.2100</td>\n",
       "      <td>321.01</td>\n",
       "      <td>24355491.0</td>\n",
       "      <td>327.653</td>\n",
       "      <td>336.5210</td>\n",
       "      <td>-8.8680</td>\n",
       "    </tr>\n",
       "  </tbody>\n",
       "</table>\n",
       "<p>81 rows × 8 columns</p>\n",
       "</div>"
      ],
      "text/plain": [
       "               open     high       low   close      volume  SMA_10d   SMA_20d  \\\n",
       "2023-04-18  291.570  291.755  287.0100  288.37  20161845.0  287.198  283.3990   \n",
       "2023-04-19  285.990  289.050  284.5400  288.45  17150271.0  287.325  284.1325   \n",
       "2023-04-20  285.250  289.030  285.0800  286.11  23244363.0  287.502  284.8235   \n",
       "2023-04-21  285.010  286.270  283.0608  285.76  21676387.0  286.918  285.2285   \n",
       "2023-04-24  282.090  284.950  278.7200  281.77  26611014.0  286.156  285.2885   \n",
       "...             ...      ...       ...     ...         ...      ...       ...   \n",
       "2023-08-07  328.370  331.110  327.5200  330.11  17741526.0  334.215  339.7885   \n",
       "2023-08-08  326.960  328.750  323.0000  326.05  22327574.0  331.722  339.4675   \n",
       "2023-08-09  326.470  327.110  321.0499  322.23  22373268.0  330.168  338.7190   \n",
       "2023-08-10  326.015  328.260  321.1800  322.93  20113725.0  329.389  337.7325   \n",
       "2023-08-11  320.260  322.410  319.2100  321.01  24355491.0  327.653  336.5210   \n",
       "\n",
       "            crossover  \n",
       "2023-04-18     3.7990  \n",
       "2023-04-19     3.1925  \n",
       "2023-04-20     2.6785  \n",
       "2023-04-21     1.6895  \n",
       "2023-04-24     0.8675  \n",
       "...               ...  \n",
       "2023-08-07    -5.5735  \n",
       "2023-08-08    -7.7455  \n",
       "2023-08-09    -8.5510  \n",
       "2023-08-10    -8.3435  \n",
       "2023-08-11    -8.8680  \n",
       "\n",
       "[81 rows x 8 columns]"
      ]
     },
     "execution_count": 9,
     "metadata": {},
     "output_type": "execute_result"
    }
   ],
   "source": [
    "stock_signals = stock.join(signal, how='left')\n",
    "stock_signals"
   ]
  },
  {
   "cell_type": "markdown",
   "metadata": {},
   "source": [
    "CLOSE-CLOSE SIGNAL"
   ]
  },
  {
   "cell_type": "code",
   "execution_count": 11,
   "metadata": {},
   "outputs": [
    {
     "data": {
      "text/html": [
       "<div>\n",
       "<style scoped>\n",
       "    .dataframe tbody tr th:only-of-type {\n",
       "        vertical-align: middle;\n",
       "    }\n",
       "\n",
       "    .dataframe tbody tr th {\n",
       "        vertical-align: top;\n",
       "    }\n",
       "\n",
       "    .dataframe thead th {\n",
       "        text-align: right;\n",
       "    }\n",
       "</style>\n",
       "<table border=\"1\" class=\"dataframe\">\n",
       "  <thead>\n",
       "    <tr style=\"text-align: right;\">\n",
       "      <th></th>\n",
       "      <th>crossover</th>\n",
       "      <th>close-close</th>\n",
       "    </tr>\n",
       "  </thead>\n",
       "  <tbody>\n",
       "    <tr>\n",
       "      <th>2023-04-18</th>\n",
       "      <td>3.7990</td>\n",
       "      <td>NaN</td>\n",
       "    </tr>\n",
       "    <tr>\n",
       "      <th>2023-04-19</th>\n",
       "      <td>3.1925</td>\n",
       "      <td>0.08</td>\n",
       "    </tr>\n",
       "    <tr>\n",
       "      <th>2023-04-20</th>\n",
       "      <td>2.6785</td>\n",
       "      <td>-2.34</td>\n",
       "    </tr>\n",
       "    <tr>\n",
       "      <th>2023-04-21</th>\n",
       "      <td>1.6895</td>\n",
       "      <td>-0.35</td>\n",
       "    </tr>\n",
       "    <tr>\n",
       "      <th>2023-04-24</th>\n",
       "      <td>0.8675</td>\n",
       "      <td>-3.99</td>\n",
       "    </tr>\n",
       "  </tbody>\n",
       "</table>\n",
       "</div>"
      ],
      "text/plain": [
       "            crossover  close-close\n",
       "2023-04-18     3.7990          NaN\n",
       "2023-04-19     3.1925         0.08\n",
       "2023-04-20     2.6785        -2.34\n",
       "2023-04-21     1.6895        -0.35\n",
       "2023-04-24     0.8675        -3.99"
      ]
     },
     "execution_count": 11,
     "metadata": {},
     "output_type": "execute_result"
    }
   ],
   "source": [
    "signal['close-close'] = stock['close'].diff()\n",
    "signal.head() # WE MUST DROP THE NAN"
   ]
  },
  {
   "cell_type": "code",
   "execution_count": 13,
   "metadata": {},
   "outputs": [],
   "source": [
    "singal = signal.dropna()"
   ]
  },
  {
   "cell_type": "code",
   "execution_count": 14,
   "metadata": {},
   "outputs": [
    {
     "data": {
      "text/plain": [
       "2023-04-18    False\n",
       "2023-04-19     True\n",
       "2023-04-20    False\n",
       "2023-04-21    False\n",
       "2023-04-24    False\n",
       "dtype: bool"
      ]
     },
     "execution_count": 14,
     "metadata": {},
     "output_type": "execute_result"
    }
   ],
   "source": [
    "quality = (signal['crossover'] > 0) & (signal['close-close'] >0) | (signal['crossover'] <0) & (signal['close-close'] < 0)\n",
    "quality.head()"
   ]
  },
  {
   "cell_type": "code",
   "execution_count": 17,
   "metadata": {},
   "outputs": [
    {
     "data": {
      "text/plain": [
       "2023-04-18    0\n",
       "2023-04-19    1\n",
       "2023-04-20    0\n",
       "2023-04-21    0\n",
       "2023-04-24    0\n",
       "dtype: int64"
      ]
     },
     "execution_count": 17,
     "metadata": {},
     "output_type": "execute_result"
    }
   ],
   "source": [
    "quality = quality.astype(int)\n",
    "quality.head()"
   ]
  },
  {
   "cell_type": "code",
   "execution_count": 19,
   "metadata": {},
   "outputs": [
    {
     "data": {
      "text/plain": [
       "0.5308641975308642"
      ]
     },
     "execution_count": 19,
     "metadata": {},
     "output_type": "execute_result"
    }
   ],
   "source": [
    "proportion_correct = quality.sum()/quality.count()\n",
    "proportion_correct"
   ]
  },
  {
   "cell_type": "code",
   "execution_count": 22,
   "metadata": {},
   "outputs": [
    {
     "data": {
      "text/plain": [
       "0.06172839506172845"
      ]
     },
     "execution_count": 22,
     "metadata": {},
     "output_type": "execute_result"
    }
   ],
   "source": [
    "information_coefficient = 2*proportion_correct - 1\n",
    "information_coefficient"
   ]
  },
  {
   "cell_type": "code",
   "execution_count": 21,
   "metadata": {},
   "outputs": [
    {
     "data": {
      "text/html": [
       "<div>\n",
       "<style scoped>\n",
       "    .dataframe tbody tr th:only-of-type {\n",
       "        vertical-align: middle;\n",
       "    }\n",
       "\n",
       "    .dataframe tbody tr th {\n",
       "        vertical-align: top;\n",
       "    }\n",
       "\n",
       "    .dataframe thead th {\n",
       "        text-align: right;\n",
       "    }\n",
       "</style>\n",
       "<table border=\"1\" class=\"dataframe\">\n",
       "  <thead>\n",
       "    <tr style=\"text-align: right;\">\n",
       "      <th></th>\n",
       "      <th>crossover</th>\n",
       "      <th>close-close</th>\n",
       "    </tr>\n",
       "  </thead>\n",
       "  <tbody>\n",
       "    <tr>\n",
       "      <th>crossover</th>\n",
       "      <td>1.000000</td>\n",
       "      <td>0.099789</td>\n",
       "    </tr>\n",
       "    <tr>\n",
       "      <th>close-close</th>\n",
       "      <td>0.099789</td>\n",
       "      <td>1.000000</td>\n",
       "    </tr>\n",
       "  </tbody>\n",
       "</table>\n",
       "</div>"
      ],
      "text/plain": [
       "             crossover  close-close\n",
       "crossover     1.000000     0.099789\n",
       "close-close   0.099789     1.000000"
      ]
     },
     "execution_count": 21,
     "metadata": {},
     "output_type": "execute_result"
    }
   ],
   "source": [
    "signal.corr(method='spearman')"
   ]
  },
  {
   "cell_type": "code",
   "execution_count": 23,
   "metadata": {},
   "outputs": [
    {
     "data": {
      "text/html": [
       "<div>\n",
       "<style scoped>\n",
       "    .dataframe tbody tr th:only-of-type {\n",
       "        vertical-align: middle;\n",
       "    }\n",
       "\n",
       "    .dataframe tbody tr th {\n",
       "        vertical-align: top;\n",
       "    }\n",
       "\n",
       "    .dataframe thead th {\n",
       "        text-align: right;\n",
       "    }\n",
       "</style>\n",
       "<table border=\"1\" class=\"dataframe\">\n",
       "  <thead>\n",
       "    <tr style=\"text-align: right;\">\n",
       "      <th></th>\n",
       "      <th>crossover</th>\n",
       "      <th>close-close</th>\n",
       "    </tr>\n",
       "  </thead>\n",
       "  <tbody>\n",
       "    <tr>\n",
       "      <th>crossover</th>\n",
       "      <td>1.000000</td>\n",
       "      <td>0.061939</td>\n",
       "    </tr>\n",
       "    <tr>\n",
       "      <th>close-close</th>\n",
       "      <td>0.061939</td>\n",
       "      <td>1.000000</td>\n",
       "    </tr>\n",
       "  </tbody>\n",
       "</table>\n",
       "</div>"
      ],
      "text/plain": [
       "             crossover  close-close\n",
       "crossover     1.000000     0.061939\n",
       "close-close   0.061939     1.000000"
      ]
     },
     "execution_count": 23,
     "metadata": {},
     "output_type": "execute_result"
    }
   ],
   "source": [
    "signal.corr(method='pearson')"
   ]
  },
  {
   "cell_type": "markdown",
   "metadata": {},
   "source": [
    "GOOD JOB!"
   ]
  }
 ],
 "metadata": {
  "kernelspec": {
   "display_name": "handsonalgo",
   "language": "python",
   "name": "python3"
  },
  "language_info": {
   "codemirror_mode": {
    "name": "ipython",
    "version": 3
   },
   "file_extension": ".py",
   "mimetype": "text/x-python",
   "name": "python",
   "nbconvert_exporter": "python",
   "pygments_lexer": "ipython3",
   "version": "3.8.10"
  },
  "orig_nbformat": 4
 },
 "nbformat": 4,
 "nbformat_minor": 2
}
