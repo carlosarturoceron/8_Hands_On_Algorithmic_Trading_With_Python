{
 "cells": [
  {
   "cell_type": "markdown",
   "metadata": {},
   "source": [
    "## Module 3\n",
    "---\n",
    "\n",
    "Two basic categories of algorithmic trading: `Trending` and `Mean Reversion`\n",
    "\n",
    "* Fundamental Elements for Designing Trading Algorithms\n",
    "\n",
    "    * Trading strategies\n",
    "\n",
    "    * Expected return\n",
    "\n",
    "    * Expected risk: far more important\n",
    "\n",
    "    * Capital management\n",
    "\n",
    "    * Why volatility and beta are nonsense?\n",
    "\n",
    "* How much capital do we alocate to a profitable strategy?\n",
    "\n",
    "    * Markowitzs and Kelly Criterion"
   ]
  },
  {
   "cell_type": "markdown",
   "metadata": {},
   "source": [
    "### Momentum Trending Strategies\n",
    "---\n",
    "\n",
    "* The trend is your friend untill it ENDS\n",
    "\n",
    "    * Very strong empirical evidence that supports this stategies\n",
    "\n",
    "    * Supported by behavioral finance theory (humans heard together)\n",
    "\n",
    "* Many flavors of trending strategies\n",
    "\n",
    "    * Channel breakout\n",
    "\n",
    "    * Moving average crossover: Dual moving average crossover strategy"
   ]
  },
  {
   "cell_type": "markdown",
   "metadata": {},
   "source": [
    "### Mean Reverting trading strategies\n",
    "\n",
    "* Encapsulates Buffet's advice, \"Be greedy when others are fearfull and fearfull when others are greedy\"\n",
    "\n",
    "    * Law of large number, things converge towards aritmethic mean\n",
    "\n",
    "    * Explained by behavioral finance\n",
    "\n",
    "* Different flavors of mean-reverting strategies:\n",
    "\n",
    "    * Value based\n",
    "\n",
    "    * Pairs Trading\n",
    "\n"
   ]
  },
  {
   "cell_type": "markdown",
   "metadata": {},
   "source": [
    "### Expected return: an arithmetic mean (look at various event, attached prob, multiply them and add to get a weighted)\n",
    "---\n",
    "\n",
    "* Expected return: probability weighted average of event payoffs/outcomes\n",
    "\n",
    "    * Expected return = (prob event 1 * event 1 payoff) + ... + (prob event N * event N payoff)\n",
    "    \n",
    "    * Expected return may be fictional e.g. expected value of a fair dice is 3.5\n",
    "\n",
    "* Probabilities are difficult to estimate except in simple games of chance\n",
    "\n",
    "    * Probability of an event in a game of chance measures its long run frequency\n",
    "\n",
    "    * Probabilities keep chainging depending on new information and events"
   ]
  },
  {
   "cell_type": "markdown",
   "metadata": {},
   "source": [
    "### `MAXIMIZING EXPECTED RETURNS RISKS RUIN`: we need a way to quantify `RISK` and use this for capital allocation\n",
    "---\n",
    "\n",
    "* It is neccesary for trades/investments to have positive expected returns, but NOT SUFFICIENT\n",
    "\n",
    "    * Take the opposite side of negative expectation trades if possible\n",
    "\n",
    "* But how much capital do we allocate to trades with +EV?\n",
    "\n",
    "    * Too much, you risk huge losses\n",
    "\n",
    "    * Too little, you waste a favorable opportunity"
   ]
  },
  {
   "cell_type": "markdown",
   "metadata": {},
   "source": [
    "### **`RISK`**"
   ]
  },
  {
   "cell_type": "markdown",
   "metadata": {},
   "source": []
  }
 ],
 "metadata": {
  "kernelspec": {
   "display_name": "handsonalgo",
   "language": "python",
   "name": "python3"
  },
  "language_info": {
   "name": "python",
   "version": "3.8.10"
  },
  "orig_nbformat": 4
 },
 "nbformat": 4,
 "nbformat_minor": 2
}
